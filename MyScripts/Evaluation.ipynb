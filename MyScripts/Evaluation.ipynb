{
 "cells": [
  {
   "cell_type": "code",
   "execution_count": 1,
   "metadata": {
    "collapsed": true,
    "scrolled": true
   },
   "outputs": [],
   "source": [
    "# We import all our dependencies.\n",
    "import numpy as np\n",
    "import math\n",
    "import torch\n",
    "import torch.nn as nn\n",
    "import torch.nn.functional as F\n",
    "import torch.optim as optim\n",
    "from torch.optim.optimizer import Optimizer\n",
    "\n",
    "import sys\n",
    "sys.path.append('../')\n",
    "\n",
    "from models.lvae import LadderVAE\n",
    "from boilerplate import boilerplate\n",
    "import lib.utils as utils\n",
    "import training\n",
    "\n",
    "import os\n",
    "import glob\n",
    "import zipfile\n",
    "import urllib\n",
    "from tifffile import imread, imsave\n",
    "from matplotlib import pyplot as plt\n",
    "from tqdm import tqdm\n",
    "\n",
    "from pathlib import Path\n",
    "from pystackreg import StackReg\n",
    "from skimage.transform import warp,AffineTransform\n",
    "import cv2"
   ]
  },
  {
   "cell_type": "code",
   "execution_count": 26,
   "metadata": {
    "collapsed": true
   },
   "outputs": [
    {
     "name": "stdout",
     "output_type": "stream",
     "text": [
      "cuda\n"
     ]
    }
   ],
   "source": [
    "use_cuda = torch.cuda.is_available()\n",
    "device = torch.device(\"cuda\" if use_cuda else \"cpu\")\n",
    "print(device)"
   ]
  },
  {
   "cell_type": "code",
   "execution_count": 2,
   "metadata": {},
   "outputs": [],
   "source": [
    "def crop_center(img,crop_size):\n",
    "\n",
    "    if type(crop_size) == tuple:\n",
    "        crop_x,crop_y = crop_size\n",
    "    elif type(crop_size) == int:\n",
    "        crop_x = crop_size\n",
    "        crop_y = crop_size\n",
    "    \n",
    "    y,x = img.shape[-2::]\n",
    "    startx = x//2-(crop_x//2)\n",
    "    starty = y//2-(crop_y//2)        \n",
    "\n",
    "    return img[...,starty:starty+crop_y,startx:startx+crop_x],startx,starty"
   ]
  },
  {
   "cell_type": "code",
   "execution_count": 49,
   "metadata": {
    "collapsed": true
   },
   "outputs": [],
   "source": [
    "initial_crop_size = 1200\n",
    "infer_crop_size = 400\n",
    "\n",
    "\n",
    "\n",
    "# Load imgs\n",
    "gtpath = Path(r\"E:\\dl_monalisa\\Data\\Vim_fixed_mltplSNR_30nm\\Evaluation\\c14\\gtavg\\gtavg.tif\")\n",
    "HDNsuppath = Path(r\"E:\\dl_monalisa\\Data\\Vim_fixed_mltplSNR_30nm\\Evaluation\\c14\\HDNsup003_1-2-3-4-0.tif\")\n",
    "HDNunsuppath = Path(r\"E:\\dl_monalisa\\Data\\Vim_fixed_mltplSNR_30nm\\Evaluation\\c14\\HDNunsup_1-2-3-4-0_and0withunsupNoise0.tif\")\n",
    "CAREpath = Path(r\"E:\\dl_monalisa\\Data\\Vim_fixed_mltplSNR_30nm\\Evaluation\\c14\\single_CAREpred.tiff\")\n",
    "\n",
    "gt = imread(gtpath)\n",
    "predsHDNsup= imread(HDNsuppath)\n",
    "predsHDNunsup= imread(HDNunsuppath)[...,0]\n",
    "predCARE= imread(CAREpath)* np.std(gt) + np.mean(gt)\n",
    "\n"
   ]
  },
  {
   "cell_type": "code",
   "execution_count": 53,
   "metadata": {},
   "outputs": [
    {
     "name": "stdout",
     "output_type": "stream",
     "text": [
      "Single\n",
      "CARE: 30.689890384674072\n",
      "HDNsup: 29.025437831878662\n",
      "HDNunsup-1: 29.775114059448242\n",
      "HDNunsup-2: 27.052288055419922\n",
      "\n",
      "Mltpl_snr\n",
      "\n",
      "#0 - sup: 29.355666637420654 - unsup 30.535452365875244\n",
      "#1 - sup: 31.24502420425415 - unsup 30.888986587524414\n",
      "#2 - sup: 28.885223865509033 - unsup 29.00089979171753\n",
      "#3 - sup: 27.537050247192383 - unsup 25.773673057556152\n"
     ]
    }
   ],
   "source": [
    "range_psnr = np.max(gt)-np.min(gt)\n",
    "\n",
    "print(\"Single\")\n",
    "psnrCARE = utils.PSNR(gt, predCARE, range_psnr)\n",
    "psnrHDNsup = utils.PSNR(gt, predsHDNsup[-1], range_psnr)\n",
    "psnrHDNunsup1 = utils.PSNR(gt, predsHDNunsup[-2], range_psnr)\n",
    "psnrHDNunsup2 = utils.PSNR(gt, predsHDNunsup[-1], range_psnr)\n",
    "print(f\"CARE: {psnrCARE}\")\n",
    "print(f\"HDNsup: {psnrHDNsup}\")\n",
    "print(f\"HDNunsup-1: {psnrHDNunsup1}\")\n",
    "print(f\"HDNunsup-2: {psnrHDNunsup2}\")\n",
    "\n",
    "print(\"\\nMltpl_snr\\n\")\n",
    "\n",
    "for i in range(4):\n",
    "    psnrHDNsup = utils.PSNR(gt, predsHDNsup[i], range_psnr)\n",
    "    psnrHDNunsup = utils.PSNR(gt, predsHDNunsup[i], range_psnr)\n",
    "    print(f\"#{i} - sup: {psnrHDNsup} - unsup {psnrHDNunsup}\")\n"
   ]
  },
  {
   "cell_type": "code",
   "execution_count": 42,
   "metadata": {},
   "outputs": [
    {
     "name": "stdout",
     "output_type": "stream",
     "text": [
      "0.13179286829973566\n",
      "0.18019237618989253\n",
      "0.20160349477769463\n"
     ]
    }
   ],
   "source": [
    "from skimage.metrics import structural_similarity as ssim\n",
    "\n",
    "ssimHDNsup = ssim(gt, predsHDNsup[-1], range = range_psnr)\n",
    "ssimHDNunsup = ssim(gt, predsHDNunsup[-1], range = range_psnr)\n",
    "ssimCARE = ssim(gt, predCARE, range = range_psnr)\n",
    "\n",
    "print(ssimHDNsup)\n",
    "print(ssimHDNunsup)\n",
    "print(ssimCARE)"
   ]
  }
 ],
 "metadata": {
  "kernelspec": {
   "display_name": "dl_monalisa_1",
   "language": "python",
   "name": "python3"
  },
  "language_info": {
   "codemirror_mode": {
    "name": "ipython",
    "version": 3
   },
   "file_extension": ".py",
   "mimetype": "text/x-python",
   "name": "python",
   "nbconvert_exporter": "python",
   "pygments_lexer": "ipython3",
   "version": "3.8.17"
  }
 },
 "nbformat": 4,
 "nbformat_minor": 4
}
