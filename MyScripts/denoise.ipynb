{
 "cells": [
  {
   "cell_type": "code",
   "execution_count": 4,
   "metadata": {},
   "outputs": [],
   "source": [
    "# We import all our dependencies.\n",
    "import numpy as np\n",
    "import math\n",
    "import torch\n",
    "import torch.nn as nn\n",
    "import torch.nn.functional as F\n",
    "import torch.optim as optim\n",
    "from torch.optim.optimizer import Optimizer\n",
    "import sys,os,shutil\n",
    "import time\n",
    "sys.path.append('../')\n",
    "\n",
    "\n",
    "from models.lvae import LadderVAE\n",
    "from boilerplate import boilerplate\n",
    "import lib.utils as utils\n",
    "import training\n",
    "import glob\n",
    "import zipfile\n",
    "import urllib\n",
    "from tifffile import imread, imsave\n",
    "from matplotlib import pyplot as plt\n",
    "from tqdm import tqdm\n",
    "\n",
    "from pathlib import Path"
   ]
  },
  {
   "cell_type": "code",
   "execution_count": 5,
   "metadata": {},
   "outputs": [
    {
     "name": "stdout",
     "output_type": "stream",
     "text": [
      "cuda\n",
      "Overwriting existing directory, pausing for 3sec in case you want to stop.\n",
      "Proceeding\n"
     ]
    }
   ],
   "source": [
    "use_cuda = torch.cuda.is_available()\n",
    "device = torch.device(\"cuda\" if use_cuda else \"cpu\")\n",
    "print(device)\n",
    "\n",
    "# data\n",
    "data_path = Path(r\"E:\\dl_monalisa\\Data\\Vim_live_timelapse_Monalisa1_35nm\\dump\\recon\\dyn_time2\")\n",
    "crop_size = 400\n",
    "im_size = 1060\n",
    "start = im_size//2-crop_size//2\n",
    "stop = im_size//2+crop_size//2\n",
    "\n",
    "\n",
    "# model\n",
    "model = torch.load(\"./Trained_model/model/Vim_fixed_SNR0_best_vae.net\")\n",
    "model.mode_pred=True\n",
    "model.eval()\n",
    "\n",
    "# define and create saving location\n",
    "overwrite = True\n",
    "save_path = Path(r\"E:\\dl_monalisa\\Data\\Vim_live_timelapse_Monalisa1_35nm\\dump\\denoised_UNET_mse_1kepoch_LowtoAvg\\dyn_time2\")\n",
    "if os.path.exists(save_path):\n",
    "    if not overwrite:\n",
    "        raise Exception(\"Save dir already exists\")\n",
    "    else:\n",
    "        print(\"Overwriting existing directory, pausing for 3sec in case you want to stop.\")\n",
    "        time.sleep(3)\n",
    "        print(\"Proceeding\")\n",
    "        shutil.rmtree(save_path)\n",
    "        os.makedirs(save_path)\n",
    "else:\n",
    "    os.makedirs(save_path)\n",
    "\n"
   ]
  },
  {
   "cell_type": "code",
   "execution_count": 8,
   "metadata": {},
   "outputs": [
    {
     "name": "stdout",
     "output_type": "stream",
     "text": [
      "Skipping Thumbs.db\n",
      "Processing v02.tif\n",
      "frame #0\n"
     ]
    },
    {
     "name": "stderr",
     "output_type": "stream",
     "text": [
      " 70%|███████   | 14/20 [05:54<02:31, 25.33s/it]\n"
     ]
    },
    {
     "ename": "KeyboardInterrupt",
     "evalue": "",
     "output_type": "error",
     "traceback": [
      "\u001b[1;31m---------------------------------------------------------------------------\u001b[0m",
      "\u001b[1;31mKeyboardInterrupt\u001b[0m                         Traceback (most recent call last)",
      "Cell \u001b[1;32mIn[8], line 20\u001b[0m\n\u001b[0;32m     18\u001b[0m     \u001b[38;5;28mprint\u001b[39m(\u001b[38;5;124mf\u001b[39m\u001b[38;5;124m\"\u001b[39m\u001b[38;5;124mframe #\u001b[39m\u001b[38;5;132;01m{\u001b[39;00mi\u001b[38;5;132;01m}\u001b[39;00m\u001b[38;5;124m\"\u001b[39m)\n\u001b[0;32m     19\u001b[0m     frame \u001b[38;5;241m=\u001b[39m stack[i]\n\u001b[1;32m---> 20\u001b[0m     img_mmse, _ \u001b[38;5;241m=\u001b[39m \u001b[43mboilerplate\u001b[49m\u001b[38;5;241;43m.\u001b[39;49m\u001b[43mpredict\u001b[49m\u001b[43m(\u001b[49m\u001b[43mframe\u001b[49m\u001b[43m,\u001b[49m\u001b[43mnum_samples\u001b[49m\u001b[43m,\u001b[49m\u001b[43mmodel\u001b[49m\u001b[43m,\u001b[49m\u001b[38;5;28;43;01mNone\u001b[39;49;00m\u001b[43m,\u001b[49m\u001b[43mdevice\u001b[49m\u001b[43m,\u001b[49m\u001b[38;5;28;43;01mFalse\u001b[39;49;00m\u001b[43m)\u001b[49m\n\u001b[0;32m     22\u001b[0m \u001b[38;5;66;03m# saving\u001b[39;00m\n\u001b[0;32m     23\u001b[0m full_save_path \u001b[38;5;241m=\u001b[39m save_path \u001b[38;5;241m/\u001b[39m name_file\n",
      "File \u001b[1;32mc:\\Users\\guillaume.minet\\Documents\\GitHub\\HDN\\MyScripts\\..\\boilerplate\\boilerplate.py:441\u001b[0m, in \u001b[0;36mpredict\u001b[1;34m(img, num_samples, model, gaussian_noise_std, device, tta)\u001b[0m\n\u001b[0;32m    439\u001b[0m     \u001b[38;5;28;01mreturn\u001b[39;00m mmse_back_transformed, samples\n\u001b[0;32m    440\u001b[0m \u001b[38;5;28;01melse\u001b[39;00m:\n\u001b[1;32m--> 441\u001b[0m     img_mmse,samples \u001b[38;5;241m=\u001b[39m \u001b[43mpredict_mmse\u001b[49m\u001b[43m(\u001b[49m\u001b[43mimg\u001b[49m\u001b[43m,\u001b[49m\u001b[43m \u001b[49m\u001b[43mnum_samples\u001b[49m\u001b[43m,\u001b[49m\u001b[43m \u001b[49m\u001b[43mmodel\u001b[49m\u001b[43m,\u001b[49m\u001b[43m \u001b[49m\u001b[43mgaussian_noise_std\u001b[49m\u001b[43m,\u001b[49m\u001b[43m \u001b[49m\n\u001b[0;32m    442\u001b[0m \u001b[43m                                            \u001b[49m\u001b[43mdevice\u001b[49m\u001b[38;5;241;43m=\u001b[39;49m\u001b[43mdevice\u001b[49m\u001b[43m,\u001b[49m\u001b[43m \u001b[49m\u001b[43mreturn_samples\u001b[49m\u001b[38;5;241;43m=\u001b[39;49m\u001b[38;5;28;43;01mTrue\u001b[39;49;00m\u001b[43m)\u001b[49m\n\u001b[0;32m    444\u001b[0m     \u001b[38;5;28;01mreturn\u001b[39;00m img_mmse, samples\n",
      "File \u001b[1;32mc:\\Users\\guillaume.minet\\Documents\\GitHub\\HDN\\MyScripts\\..\\boilerplate\\boilerplate.py:399\u001b[0m, in \u001b[0;36mpredict_mmse\u001b[1;34m(img_n, num_samples, model, gaussian_noise_std, device, return_samples)\u001b[0m\n\u001b[0;32m    396\u001b[0m samples \u001b[38;5;241m=\u001b[39m []\n\u001b[0;32m    398\u001b[0m \u001b[38;5;28;01mfor\u001b[39;00m j \u001b[38;5;129;01min\u001b[39;00m tqdm(\u001b[38;5;28mrange\u001b[39m(num_samples)):\n\u001b[1;32m--> 399\u001b[0m     sample \u001b[38;5;241m=\u001b[39m \u001b[43mpredict_sample\u001b[49m\u001b[43m(\u001b[49m\u001b[43mimage_sample\u001b[49m\u001b[43m,\u001b[49m\u001b[43m \u001b[49m\u001b[43mmodel\u001b[49m\u001b[43m,\u001b[49m\u001b[43m \u001b[49m\u001b[43mgaussian_noise_std\u001b[49m\u001b[43m,\u001b[49m\u001b[43m \u001b[49m\u001b[43mdevice\u001b[49m\u001b[38;5;241;43m=\u001b[39;49m\u001b[43mdevice\u001b[49m\u001b[43m)\u001b[49m\n\u001b[0;32m    400\u001b[0m     samples\u001b[38;5;241m.\u001b[39mappend(np\u001b[38;5;241m.\u001b[39msqueeze(sample))\n\u001b[0;32m    402\u001b[0m img_mmse \u001b[38;5;241m=\u001b[39m np\u001b[38;5;241m.\u001b[39mmean(np\u001b[38;5;241m.\u001b[39marray(samples),axis\u001b[38;5;241m=\u001b[39m\u001b[38;5;241m0\u001b[39m)\n",
      "File \u001b[1;32mc:\\Users\\guillaume.minet\\Documents\\GitHub\\HDN\\MyScripts\\..\\boilerplate\\boilerplate.py:372\u001b[0m, in \u001b[0;36mpredict_sample\u001b[1;34m(img, model, gaussian_noise_std, device)\u001b[0m\n\u001b[0;32m    370\u001b[0m recon \u001b[38;5;241m=\u001b[39m outputs[\u001b[38;5;124m'\u001b[39m\u001b[38;5;124mout_mean\u001b[39m\u001b[38;5;124m'\u001b[39m]\n\u001b[0;32m    371\u001b[0m recon_denormalized \u001b[38;5;241m=\u001b[39m recon\u001b[38;5;241m*\u001b[39mmodel\u001b[38;5;241m.\u001b[39mdata_std\u001b[38;5;241m+\u001b[39mmodel\u001b[38;5;241m.\u001b[39mdata_mean\n\u001b[1;32m--> 372\u001b[0m recon_cpu \u001b[38;5;241m=\u001b[39m \u001b[43mrecon_denormalized\u001b[49m\u001b[38;5;241;43m.\u001b[39;49m\u001b[43mcpu\u001b[49m\u001b[43m(\u001b[49m\u001b[43m)\u001b[49m\n\u001b[0;32m    373\u001b[0m recon_numpy \u001b[38;5;241m=\u001b[39m recon_cpu\u001b[38;5;241m.\u001b[39mdetach()\u001b[38;5;241m.\u001b[39mnumpy()\n\u001b[0;32m    374\u001b[0m \u001b[38;5;28;01mreturn\u001b[39;00m recon_numpy\n",
      "\u001b[1;31mKeyboardInterrupt\u001b[0m: "
     ]
    }
   ],
   "source": [
    "\n",
    "# prediction\n",
    "num_samples = 20\n",
    "list_files = os.listdir(data_path)\n",
    "for i in range(len(list_files)):\n",
    "    name_file = list_files[i]\n",
    "    if name_file.split('.')[-1] not in ['tif','tiff']:\n",
    "        print(f\"Skipping {name_file}\")\n",
    "        continue\n",
    "\n",
    "    print(f\"Processing {name_file}\")\n",
    "    stack = imread(data_path / name_file)[:,start:stop,start:stop]\n",
    "    stack[stack<0]=0\n",
    "\n",
    "\n",
    "    # predict\n",
    "    pred_stack = pred_timelapse = np.empty((stack.shape[0],stack.shape[1],stack.shape[2]))\n",
    "    for i in range(stack.shape[0]):\n",
    "        print(f\"frame #{i}\")\n",
    "        frame = stack[i]\n",
    "        img_mmse, _ = boilerplate.predict(frame,num_samples,model,None,device,False)\n",
    "\n",
    "    # saving\n",
    "    full_save_path = save_path / name_file\n",
    "\n",
    "    imsave(full_save_path,pred_stack)\n",
    "\n",
    "    break"
   ]
  }
 ],
 "metadata": {
  "kernelspec": {
   "display_name": "dl_monalisa_1",
   "language": "python",
   "name": "python3"
  },
  "language_info": {
   "codemirror_mode": {
    "name": "ipython",
    "version": 3
   },
   "file_extension": ".py",
   "mimetype": "text/x-python",
   "name": "python",
   "nbconvert_exporter": "python",
   "pygments_lexer": "ipython3",
   "version": "3.8.17"
  }
 },
 "nbformat": 4,
 "nbformat_minor": 2
}
