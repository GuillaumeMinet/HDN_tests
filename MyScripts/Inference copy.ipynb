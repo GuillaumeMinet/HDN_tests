{
 "cells": [
  {
   "cell_type": "code",
   "execution_count": null,
   "metadata": {
    "collapsed": true,
    "scrolled": true
   },
   "outputs": [],
   "source": [
    "# We import all our dependencies.\n",
    "import numpy as np\n",
    "import math\n",
    "import torch\n",
    "import torch.nn as nn\n",
    "import torch.nn.functional as F\n",
    "import torch.optim as optim\n",
    "from torch.optim.optimizer import Optimizer\n",
    "\n",
    "import sys\n",
    "sys.path.append('../')\n",
    "\n",
    "from models.lvae import LadderVAE\n",
    "from boilerplate import boilerplate\n",
    "import lib.utils as utils\n",
    "import training\n",
    "\n",
    "import os\n",
    "import glob\n",
    "import zipfile\n",
    "import urllib\n",
    "from tifffile import imread, imsave\n",
    "from matplotlib import pyplot as plt\n",
    "from tqdm import tqdm\n",
    "\n",
    "from pathlib import Path"
   ]
  },
  {
   "cell_type": "code",
   "execution_count": null,
   "metadata": {
    "collapsed": true
   },
   "outputs": [],
   "source": [
    "use_cuda = torch.cuda.is_available()\n",
    "device = torch.device(\"cuda\" if use_cuda else \"cpu\")\n",
    "print(device)"
   ]
  },
  {
   "cell_type": "code",
   "execution_count": null,
   "metadata": {
    "collapsed": true
   },
   "outputs": [],
   "source": [
    "crop_size = 400\n",
    "im_size = 1200\n",
    "start = im_size//2-crop_size//2\n",
    "stop = im_size//2+crop_size//2\n",
    "\n",
    "\n",
    "# data paths\n",
    "dataset_name = \"Vimentin\"\n",
    "base_data_dir = Path(r\"E:\\dl_monalisa\\Data\\Vim_fixed_mltplSNR_30nm\\inference\\N2V\")\n",
    "data_path_signal = base_data_dir / \"Vim_fixed_OnGtAvg_mse\"\n",
    "data_path_obs = base_data_dir / \"Vim_fixed_OnInpSingle_mse\"\n",
    "signal = []\n",
    "observation = []\n",
    "\n",
    "filters = ['tif','tiff']\n",
    "\n",
    "files_signal = os.listdir(data_path_signal)\n",
    "files_obs = os.listdir(data_path_obs)\n",
    "\n",
    "#print(files)\n",
    "assert len(files_obs) == len(files_signal)\n",
    "print(f\"Found {len(files_signal)} files.\")\n",
    "for i in range (len(files_obs)):\n",
    "    file_signal = files_signal [i]\n",
    "    file_obs = files_obs [i]\n",
    "\n",
    "    if file_signal.split('.')[-1] not in filters:\n",
    "        print(f\"skipping {file_signal} because not in filters\")\n",
    "        continue\n",
    "    \n",
    "    #load\n",
    "    im_signal = imread(data_path_signal / file_signal)[0]\n",
    "    im_obs  = imread(data_path_obs / file_obs)[0]\n",
    "\n",
    "    #crop\n",
    "    im_signal = im_signal[start:stop,start:stop]\n",
    "    im_obs = im_obs[start:stop,start:stop]\n",
    "\n",
    "    observation.append(im_obs)\n",
    "    signal.append(im_signal)\n",
    "\n",
    "\n",
    "signal = np.stack(signal)\n",
    "observation = np.stack(observation)\n",
    "\n",
    "#norm\n",
    "signal = (signal -np.mean(signal)) / np.std(signal)\n",
    "signal = signal + np.abs(np.min(signal))\n",
    "observation = (observation -np.mean(observation)) / np.std(observation)\n",
    "observation = observation + np.abs(np.min(observation))\n",
    "\n",
    "print(np.min(observation))\n",
    "print(np.min(signal))\n",
    "\n",
    "plt.figure(figsize=(10,20))\n",
    "plt.subplot(1,2,1)\n",
    "plt.imshow(signal[0])\n",
    "\n",
    "plt.subplot(1,2,2)\n",
    "plt.imshow(observation[0])\n",
    "print(signal.shape)\n",
    "print(observation.shape)"
   ]
  },
  {
   "cell_type": "markdown",
   "metadata": {},
   "source": [
    "# Load our model"
   ]
  },
  {
   "cell_type": "code",
   "execution_count": null,
   "metadata": {
    "collapsed": true,
    "scrolled": true
   },
   "outputs": [],
   "source": [
    "%%capture\n",
    "model = torch.load(\"./Trained_model/model/Vimentin_Single_AvgHistogramCorrectNorm_NoAugment_best_vae.net\")\n",
    "model.mode_pred=True\n",
    "model.eval()"
   ]
  },
  {
   "cell_type": "markdown",
   "metadata": {},
   "source": [
    "# Compute PSNR\n",
    "The higher the PSNR, the better the denoising performance is.\n",
    "PSNR is computed using the formula: \n",
    "\n",
    "```PSNR = 20 * log(rangePSNR) - 10 * log(mse)``` <br> \n",
    "where ```mse = mean((gt - img)**2)```, ```gt``` is ground truth image and ```img``` is the prediction from HDN. All logarithms are with base 10.<br>\n",
    "rangePSNR = max(```gt```)-min(```gt```) for as used in this [paper](https://ieeexplore.ieee.org/abstract/document/9098612/)."
   ]
  },
  {
   "cell_type": "code",
   "execution_count": null,
   "metadata": {
    "collapsed": true
   },
   "outputs": [],
   "source": [
    "torch.cuda.empty_cache()\n"
   ]
  },
  {
   "cell_type": "code",
   "execution_count": null,
   "metadata": {},
   "outputs": [],
   "source": [
    "\n",
    "gaussian_noise_std = None\n",
    "num_samples = 50 # number of samples used to compute MMSE estimate\n",
    "tta = False # turn on test time augmentation when set to True. It may improve performance at the expense of 8x longer prediction time\n",
    "psnrs = []\n",
    "range_psnr = np.max(signal[0])-np.min(signal[0])\n",
    "\n",
    "img_mmse_list = []\n",
    "samples_list = []\n",
    "# for i in range(observation.shape[0]):\n",
    "for i in range (3):\n",
    "    img_mmse, samples = boilerplate.predict(observation[i],num_samples,model,gaussian_noise_std,device,tta)\n",
    "    img_mmse_list.append(img_mmse)\n",
    "    samples_list.append(np.stack(samples))\n",
    "    psnr = utils.PSNR(signal[0], img_mmse, range_psnr)\n",
    "    psnrs.append(psnr)\n",
    "    print(\"image:\", i, \"PSNR:\", psnr, \"Mean PSNR:\", np.mean(psnrs))"
   ]
  },
  {
   "cell_type": "code",
   "execution_count": null,
   "metadata": {
    "collapsed": true
   },
   "outputs": [],
   "source": [
    "### saving solutions\n",
    "saving_location = Path(r\"E:\\dl_monalisa\\Data\\Vim_fixed_mltplSNR_30nm\\inference\\HDN\\aaa\")\n",
    "if not os.path.exists(saving_location):\n",
    "    os.makedirs(saving_location)\n",
    "\n",
    "for i in range(len(img_mmse_list)):\n",
    "    summary = np.stack([signal[i],observation[i],img_mmse_list[i]])\n",
    "    samples = samples_list[i]\n",
    "    std = np.var(samples,axis=0)\n",
    "    imsave(saving_location / f\"inp_gt_mmse{num_samples}_{i:02d}.tif\",summary,imagej=True,metadata={'axes':'TYX'})\n",
    "    imsave(saving_location / f\"samples_{i:02d}.tif\",samples)\n",
    "    imsave(saving_location / f\"var_{i:02d}.tif\",std)"
   ]
  },
  {
   "cell_type": "code",
   "execution_count": null,
   "metadata": {},
   "outputs": [],
   "source": [
    "samples.shape"
   ]
  }
 ],
 "metadata": {
  "kernelspec": {
   "display_name": "Python 3",
   "language": "python",
   "name": "python3"
  },
  "language_info": {
   "codemirror_mode": {
    "name": "ipython",
    "version": 3
   },
   "file_extension": ".py",
   "mimetype": "text/x-python",
   "name": "python",
   "nbconvert_exporter": "python",
   "pygments_lexer": "ipython3",
   "version": "3.8.17"
  }
 },
 "nbformat": 4,
 "nbformat_minor": 4
}
